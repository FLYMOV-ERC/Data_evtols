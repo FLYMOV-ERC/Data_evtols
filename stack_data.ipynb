{
 "cells": [
  {
   "cell_type": "code",
   "execution_count": 1,
   "metadata": {},
   "outputs": [
    {
     "name": "stdout",
     "output_type": "stream",
     "text": [
      "       PULocationID  DOLocationID  distance_km\n",
      "0               132             1    33.138263\n",
      "1               132            23    32.829474\n",
      "2               132             1    33.138263\n",
      "3               132             1    33.138263\n",
      "4               254           117    32.524474\n",
      "...             ...           ...          ...\n",
      "88406           132             1    33.138263\n",
      "88407            86           169    30.172856\n",
      "88408           210            18    30.905359\n",
      "88409           142             5    30.139688\n",
      "88410           153             1    30.220682\n",
      "\n",
      "[88411 rows x 3 columns]\n"
     ]
    }
   ],
   "source": [
    "import pandas as pd\n",
    "import os\n",
    "\n",
    "# Specify the folder containing the CSV files\n",
    "folder_path = 'output_data/parquets_distance'\n",
    "\n",
    "# Get a list of all CSV files in the folder\n",
    "csv_files = [os.path.join(folder_path, file) for file in os.listdir(folder_path) if file.endswith('.csv')]\n",
    "\n",
    "# Load and combine all CSV files\n",
    "combined = pd.concat([pd.read_csv(file) for file in csv_files], axis=0).reset_index(drop=True)\n",
    "\n",
    "print(combined)\n"
   ]
  },
  {
   "cell_type": "code",
   "execution_count": 2,
   "metadata": {},
   "outputs": [
    {
     "name": "stdout",
     "output_type": "stream",
     "text": [
      "Filtered distances saved to:        PULocationID  DOLocationID  distance_km\n",
      "0               132             1    33.138263\n",
      "1               132            23    32.829474\n",
      "2               132             1    33.138263\n",
      "3               132             1    33.138263\n",
      "4               254           117    32.524474\n",
      "...             ...           ...          ...\n",
      "88406           132             1    33.138263\n",
      "88407            86           169    30.172856\n",
      "88408           210            18    30.905359\n",
      "88409           142             5    30.139688\n",
      "88410           153             1    30.220682\n",
      "\n",
      "[88411 rows x 3 columns]\n"
     ]
    }
   ],
   "source": [
    "# Save the filtered dataset to a new CSV file\n",
    "output_file_path = 'output_data/distances.csv'\n",
    "combined.to_csv(output_file_path, index=False)\n",
    "\n",
    "print(f\"Filtered distances saved to: {combined}\")"
   ]
  },
  {
   "cell_type": "code",
   "execution_count": null,
   "metadata": {},
   "outputs": [],
   "source": []
  }
 ],
 "metadata": {
  "kernelspec": {
   "display_name": "Python 3",
   "language": "python",
   "name": "python3"
  },
  "language_info": {
   "codemirror_mode": {
    "name": "ipython",
    "version": 3
   },
   "file_extension": ".py",
   "mimetype": "text/x-python",
   "name": "python",
   "nbconvert_exporter": "python",
   "pygments_lexer": "ipython3",
   "version": "3.10.12"
  }
 },
 "nbformat": 4,
 "nbformat_minor": 2
}
